{
  "nbformat": 4,
  "nbformat_minor": 0,
  "metadata": {
    "colab": {
      "provenance": [],
      "mount_file_id": "1VIpKwWEoJLAqNxW1vBzLQVZMVPzL7o_J",
      "authorship_tag": "ABX9TyOewUQmaJojcYDdLLIJ3S+z",
      "include_colab_link": true
    },
    "kernelspec": {
      "name": "python3",
      "display_name": "Python 3"
    },
    "language_info": {
      "name": "python"
    }
  },
  "cells": [
    {
      "cell_type": "markdown",
      "metadata": {
        "id": "view-in-github",
        "colab_type": "text"
      },
      "source": [
        "<a href=\"https://colab.research.google.com/github/Leonardo-Dias-Up/Colab/blob/main/Pnad_Covid_19.ipynb\" target=\"_parent\"><img src=\"https://colab.research.google.com/assets/colab-badge.svg\" alt=\"Open In Colab\"/></a>"
      ]
    },
    {
      "cell_type": "markdown",
      "source": [
        "PNAD Continua - Covid 19"
      ],
      "metadata": {
        "id": "grASbicr7os1"
      }
    },
    {
      "cell_type": "code",
      "source": [
        "import pandas as pd\n",
        "import numpy as np \n",
        "import statsmodels.api as sm\n",
        "from google.colab import auth\n",
        "from google.cloud import bigquery\n",
        "from google.oauth2 import service_account\n",
        "from google.colab import files"
      ],
      "metadata": {
        "id": "9Yc5KOML9AHr"
      },
      "execution_count": 1,
      "outputs": []
    },
    {
      "cell_type": "code",
      "source": [
        "df = pd.read_stata('/content/drive/MyDrive/Colab Notebooks/PNAD - covid-19/base.dta')\n",
        "df.head()"
      ],
      "metadata": {
        "id": "QCwXyOEgT-7Q"
      },
      "execution_count": 7,
      "outputs": []
    },
    {
      "cell_type": "code",
      "source": [
        "# MÊS DA COLETA\n",
        "df['mes'] = None\n",
        "df['mes'].loc[df['v1013'] == 7] = 0\n",
        "df['mes'].loc[df['v1013'] == 8] = 1\n",
        "df['mes'].loc[df['v1013'] == 9] = 2\n",
        "df['mes'].loc[df['v1013'] == 10] = 3\n",
        "df['mes'].loc[df['v1013'] == 11] = 4\n",
        "df['mes'] = pd.to_numeric(df['mes'])\n",
        "df['mes'].value_counts(dropna=False)\n",
        "\n",
        "# Adicionando rótulos à variável 'mes'\n",
        "df['mes'].replace({0: 'julho', 1: 'agosto', 2: 'setembro', 3: 'outubro', 4: 'novembro'}, inplace=True)"
      ],
      "metadata": {
        "id": "mgzeOZFX9BO5"
      },
      "execution_count": null,
      "outputs": []
    },
    {
      "cell_type": "code",
      "source": [
        "# SEXO FEMININO\n",
        "df['mulher'] = None\n",
        "df['mulher'].loc[df['a003'] == 1] = 0\n",
        "df['mulher'].loc[df['a003'] == 2] = 1\n",
        "df['mulher'] = pd.to_numeric(df['mulher'])\n",
        "df['mulher'].value_counts(dropna=False)"
      ],
      "metadata": {
        "id": "0C2xOqEn9BT7"
      },
      "execution_count": null,
      "outputs": []
    },
    {
      "cell_type": "code",
      "source": [
        "# SEXO MASCULINO\n",
        "df['homem'] = None\n",
        "df['homem'].loc[df['a003'] == 1] = 1\n",
        "df['homem'].loc[df['a003'] == 2] = 0\n",
        "df['homem'] = pd.to_numeric(df['homem'])\n",
        "df['homem'].value_counts(dropna=False)"
      ],
      "metadata": {
        "id": "9U-OUx_U9BXJ"
      },
      "execution_count": null,
      "outputs": []
    },
    {
      "cell_type": "code",
      "source": [
        "# RAÇA NEGRA (preto + pardo)\n",
        "df['negra'] = None\n",
        "df['negra'].loc[(df['a004'] == 2) | (df['a004'] == 4)] = 1\n",
        "df['negra'].loc[(df['a004'] == 1) | (df['a004'] == 3) | (df['a004'] == 5)] = 0\n",
        "df['negra'] = pd.to_numeric(df['negra'])\n",
        "df[['a004', 'negra']].value_counts(dropna=False)"
      ],
      "metadata": {
        "id": "lK2u5tYj9GnS"
      },
      "execution_count": null,
      "outputs": []
    },
    {
      "cell_type": "code",
      "source": [
        "# RAÇA BRANCA (branco + amarelo)\n",
        "df['branca'] = None\n",
        "df['branca'].loc[(df['a004'] == 1) | (df['a004'] == 3)] = 1\n",
        "df['branca'].loc[(df['a004'] == 2) | (df['a004'] == 4) | (df['a004'] == 5)] = 0\n",
        "df['branca'] = pd.to_numeric(df['branca'])\n",
        "df[['a004', 'branca']].value_counts(dropna=False)"
      ],
      "metadata": {
        "id": "sOhtZXkm9GqS"
      },
      "execution_count": null,
      "outputs": []
    },
    {
      "cell_type": "code",
      "source": [
        "# SITUAÇÃO DOMICILIAR (URBANO OU RURAL)\n",
        "df['urbana'] = df['v1022'].apply(lambda x: 1 if x==1 else 0)\n",
        "df['rural'] = df['v1022'].apply(lambda x: 0 if x==1 else 1)\n",
        "\n",
        "print(df[['v1022', 'urbana', 'rural']].isna().sum()) # conferindo se há valores faltantes"
      ],
      "metadata": {
        "id": "Q7USN5Hw9Gs8"
      },
      "execution_count": null,
      "outputs": []
    },
    {
      "cell_type": "code",
      "source": [
        "# SETOR FORMAL\n",
        "df['formal'] = df['c007'].apply(lambda x: 1 if x in [1, 2, 3, 6, 10] else 0)\n",
        "df['formal'].replace(to_replace={0: 'Informal', 1: 'Formal'}, inplace=True)\n",
        "\n",
        "print(df[['c007', 'formal']].isna().sum()) # conferindo se há valores faltantes"
      ],
      "metadata": {
        "id": "Thd3Wco19Gvb"
      },
      "execution_count": null,
      "outputs": []
    },
    {
      "cell_type": "code",
      "source": [
        "# SETOR ATIVIDADE\n",
        "df['setor'] = df['c007d'].apply(lambda x: 1 if x in [1, 2, 3, 4, 5] \n",
        "                                      else 2 if x in [6, 7, 11, 15]\n",
        "                                      else 3 if x in [8, 9, 10, 12, 13, 14, 16, 17, 18, 19, 20, 21, 22, 23, 24, 25]\n",
        "                                      else None)\n",
        "\n",
        "df['setor'].replace(to_replace={1: '1-Industria', 2: '2-Comercio', 3: '3-Outros'}, inplace=True)\n",
        "\n",
        "print(df[['c007d', 'setor']].isna().sum()) # conferindo se há valores faltantes"
      ],
      "metadata": {
        "id": "uoWhHljt9MOJ"
      },
      "execution_count": null,
      "outputs": []
    },
    {
      "cell_type": "code",
      "source": [
        "# ANOS DE ESTUDO\n",
        "df['anest'] = df['a005'] - 1\n",
        "\n",
        "\n",
        "# GRUPOS DE ANOS DE ESTUDO\n",
        "df['anest3'] = df['anest'].apply(lambda x: 1 if x in ['Sem_instrucao', 'Fundamental_incompleto'] \n",
        "                                             else 2 if x in ['Fundamental_completa', 'Medio_incompleto'] \n",
        "                                             else 3 if x in ['Medio_completo', 'Superior_incompleto'] \n",
        "                                             else 4 if x in ['Superior_completo', 'Pos_graduacao'] \n",
        "                                             else None)\n",
        "\n",
        "df['anest3'].replace(to_replace={1: 'Sem_instrucao', 2: 'Fundamental_completo', 3: 'Medio_completo', \n",
        "                                 4: 'Superior_completo'}, inplace=True)\n",
        "\n",
        "print(df[['anest', 'anest3']].isna().sum()) # conferindo se há valores faltantes"
      ],
      "metadata": {
        "id": "H1fUAKga9MUj"
      },
      "execution_count": null,
      "outputs": []
    },
    {
      "cell_type": "code",
      "source": [
        "# EXPERIENCIA - Heckman, Lochner e Todd (2005)\n",
        "# experiencia no artigo heckman pode ser calculado como IDADE - ANOS DE ESTUDO - 6 (que é quando começa a alfabetização)* \n",
        "df['exp'] = df['idpia'] - df['anest'] - 6\n",
        "df['expquad'] = df['exp'] ** 2\n",
        "\n",
        "df['anest'].replace(to_replace={0: 'Sem_instrucao', 1: 'Fundamental_incompleto', 2: 'Fundamental_completa', \n",
        "                                3: 'Medio_incompleto', 4: 'Medio_completo', 5: 'Superior_incompleto', \n",
        "                                6: 'Superior_completo', 7: 'Pos_graduacao'}, inplace=True)\n",
        "\n",
        "print(df[['a005', 'anest']].isna().sum()) # conferindo se há valores faltantes"
      ],
      "metadata": {
        "id": "SUUktdGr9MYX"
      },
      "execution_count": null,
      "outputs": []
    },
    {
      "cell_type": "code",
      "source": [
        "# REGIAO\n",
        "df['regiao'] = np.nan\n",
        "df.loc[(df['uf'] >= 12) & (df['uf'] < 20), 'regiao'] = 1\n",
        "df.loc[(df['uf'] >= 21) & (df['uf'] < 30), 'regiao'] = 2\n",
        "df.loc[(df['uf'] >= 31) & (df['uf'] < 40), 'regiao'] = 3\n",
        "df.loc[(df['uf'] >= 40) & (df['uf'] < 50), 'regiao'] = 4\n",
        "df.loc[(df['uf'] >= 50) & (df['uf'] < 54), 'regiao'] = 5\n",
        "df['regiao'].replace({1: 'Norte', 2: 'Nordeste', 3: 'Sudeste', 4: 'Sul', 5: 'Centro Oeste'}, inplace=True)"
      ],
      "metadata": {
        "id": "ydn-LkOi9McC"
      },
      "execution_count": 18,
      "outputs": []
    },
    {
      "cell_type": "code",
      "source": [
        "# IDADE DO MORADOR\n",
        "df['idpia'] = df['a002']\n",
        "df['idquad'] = df['idpia'] ** 2"
      ],
      "metadata": {
        "id": "uSTvlCuj9a2q"
      },
      "execution_count": 19,
      "outputs": []
    },
    {
      "cell_type": "code",
      "source": [
        "# GRUPOS DE IDADE\n",
        "df['idpia4'] = np.nan\n",
        "df.loc[df['idpia'] < 15, 'idpia4'] = 0\n",
        "df.loc[(df['idpia'] >= 15) & (df['idpia'] <= 24), 'idpia4'] = 1\n",
        "df.loc[(df['idpia'] >= 25) & (df['idpia'] <= 34), 'idpia4'] = 2\n",
        "df.loc[(df['idpia'] >= 35) & (df['idpia'] <= 49), 'idpia4'] = 3\n",
        "df.loc[(df['idpia'] >= 50) & (df['idpia'] <= 64), 'idpia4'] = 4\n",
        "df.loc[df['idpia'] > 64, 'idpia4'] = 5\n",
        "\n",
        "# Numero de crianças com menos de 10 anos\n",
        "df['idade10'] = np.where(df['idpia'] < 10, 1, 0)"
      ],
      "metadata": {
        "id": "6dD0bbtz9a6I"
      },
      "execution_count": 20,
      "outputs": []
    },
    {
      "cell_type": "code",
      "source": [
        "# OCUPACAO (Na semana passada, por pelo menos uma hora, trabalhou ou fez algum bico?)\n",
        "df['ocupacao'] = np.where(df['c001'] == 1, 1, 0)"
      ],
      "metadata": {
        "id": "24ZwdRHy9a9g"
      },
      "execution_count": 21,
      "outputs": []
    },
    {
      "cell_type": "code",
      "source": [
        "# TEMPO DESEMPREGADO\n",
        "df['desemp'] = df['c0051']"
      ],
      "metadata": {
        "id": "BBhamkBlDl9c"
      },
      "execution_count": 22,
      "outputs": []
    },
    {
      "cell_type": "code",
      "source": [
        "# RENDIMENTO\n",
        "# Rendimento mensal em dinheiro que recebia normalmente,\n",
        "# no mês de referência,\n",
        "# no trabalho principal da semana de referência\n",
        "df['renpri'] = np.where(df['c01012'] != 999999999999, df['c01012'], np.nan)\n",
        "df['lnrenpri'] = np.log(df['renpri'])\n",
        "\n",
        "# Cria um histogram de \"renpri\" \n",
        "df['lnrenpri'].hist(figsize=(20,6))\n",
        "\n",
        "# Renda média mensal\n",
        "df.groupby('mes')['renpri'].mean()"
      ],
      "metadata": {
        "colab": {
          "base_uri": "https://localhost:8080/",
          "height": 502
        },
        "id": "PIb6jTKnDmuF",
        "outputId": "d0d97cce-8032-4aaa-e3b2-d14d62c01659"
      },
      "execution_count": 31,
      "outputs": [
        {
          "output_type": "execute_result",
          "data": {
            "text/plain": [
              "mes\n",
              "agosto      2243.839208\n",
              "julho       2242.426371\n",
              "novembro    2216.140828\n",
              "outubro     2216.906919\n",
              "setembro    2238.981172\n",
              "Name: renpri, dtype: float64"
            ]
          },
          "metadata": {},
          "execution_count": 31
        },
        {
          "output_type": "display_data",
          "data": {
            "text/plain": [
              "<Figure size 1440x432 with 1 Axes>"
            ],
            "image/png": "[encoded data removed]"
          },
          "metadata": {
            "needs_background": "light"
          }
        }
      ]
    },
    {
      "cell_type": "code",
      "source": [
        "# Estatística descritiva\n",
        "df[['mulher', 'homem', 'branca', 'negra', 'idpia', 'idquad', 'idpia4', 'anest', 'anest3', 'exp', 'expquad', 'urbano', 'rural']].describe()"
      ],
      "metadata": {
        "colab": {
          "base_uri": "https://localhost:8080/",
          "height": 344
        },
        "id": "ObeBCKbaDv3V",
        "outputId": "74b44a9f-f93b-47b7-d301-978523680c4b"
      },
      "execution_count": 24,
      "outputs": [
        {
          "output_type": "execute_result",
          "data": {
            "text/plain": [
              "             mulher         homem        branca         negra         idpia  \\\n",
              "count  1.919883e+06  1.919883e+06  1.919409e+06  1.919409e+06  1.919883e+06   \n",
              "mean   5.204624e-01  4.795376e-01  4.237872e-01  5.723340e-01  3.689114e+01   \n",
              "std    4.995812e-01  4.995812e-01  4.941576e-01  4.947403e-01  2.182807e+01   \n",
              "min    0.000000e+00  0.000000e+00  0.000000e+00  0.000000e+00  0.000000e+00   \n",
              "25%    0.000000e+00  0.000000e+00  0.000000e+00  0.000000e+00  1.800000e+01   \n",
              "50%    1.000000e+00  0.000000e+00  0.000000e+00  1.000000e+00  3.600000e+01   \n",
              "75%    1.000000e+00  1.000000e+00  1.000000e+00  1.000000e+00  5.400000e+01   \n",
              "max    1.000000e+00  1.000000e+00  1.000000e+00  1.000000e+00  1.110000e+02   \n",
              "\n",
              "             idquad        idpia4           exp       expquad        urbano  \\\n",
              "count  1.919883e+06  1.919883e+06  1.919883e+06  1.919883e+06  1.919883e+06   \n",
              "mean   1.837421e+03  2.424487e+00  2.824436e+01  1.266933e+03  7.615855e-01   \n",
              "std    1.793299e+03  1.666584e+00  2.166079e+01  1.479523e+03  4.261140e-01   \n",
              "min    0.000000e+00  0.000000e+00 -6.000000e+00  0.000000e+00  0.000000e+00   \n",
              "25%    3.240000e+02  1.000000e+00  9.000000e+00  8.100000e+01  1.000000e+00   \n",
              "50%    1.296000e+03  3.000000e+00  2.600000e+01  6.760000e+02  1.000000e+00   \n",
              "75%    2.916000e+03  4.000000e+00  4.500000e+01  2.025000e+03  1.000000e+00   \n",
              "max    1.232100e+04  5.000000e+00  1.050000e+02  1.102500e+04  1.000000e+00   \n",
              "\n",
              "              rural  \n",
              "count  1.919883e+06  \n",
              "mean   2.384145e-01  \n",
              "std    4.261140e-01  \n",
              "min    0.000000e+00  \n",
              "25%    0.000000e+00  \n",
              "50%    0.000000e+00  \n",
              "75%    0.000000e+00  \n",
              "max    1.000000e+00  "
            ],
            "text/html": [
              "\n",
              "  <div id=\"df-12344e11-e7db-422b-9d41-ae532ce59ee6\">\n",
              "    <div class=\"colab-df-container\">\n",
              "      <div>\n",
              "<style scoped>\n",
              "    .dataframe tbody tr th:only-of-type {\n",
              "        vertical-align: middle;\n",
              "    }\n",
              "\n",
              "    .dataframe tbody tr th {\n",
              "        vertical-align: top;\n",
              "    }\n",
              "\n",
              "    .dataframe thead th {\n",
              "        text-align: right;\n",
              "    }\n",
              "</style>\n",
              "<table border=\"1\" class=\"dataframe\">\n",
              "  <thead>\n",
              "    <tr style=\"text-align: right;\">\n",
              "      <th></th>\n",
              "      <th>mulher</th>\n",
              "      <th>homem</th>\n",
              "      <th>branca</th>\n",
              "      <th>negra</th>\n",
              "      <th>idpia</th>\n",
              "      <th>idquad</th>\n",
              "      <th>idpia4</th>\n",
              "      <th>exp</th>\n",
              "      <th>expquad</th>\n",
              "      <th>urbano</th>\n",
              "      <th>rural</th>\n",
              "    </tr>\n",
              "  </thead>\n",
              "  <tbody>\n",
              "    <tr>\n",
              "      <th>count</th>\n",
              "      <td>1.919883e+06</td>\n",
              "      <td>1.919883e+06</td>\n",
              "      <td>1.919409e+06</td>\n",
              "      <td>1.919409e+06</td>\n",
              "      <td>1.919883e+06</td>\n",
              "      <td>1.919883e+06</td>\n",
              "      <td>1.919883e+06</td>\n",
              "      <td>1.919883e+06</td>\n",
              "      <td>1.919883e+06</td>\n",
              "      <td>1.919883e+06</td>\n",
              "      <td>1.919883e+06</td>\n",
              "    </tr>\n",
              "    <tr>\n",
              "      <th>mean</th>\n",
              "      <td>5.204624e-01</td>\n",
              "      <td>4.795376e-01</td>\n",
              "      <td>4.237872e-01</td>\n",
              "      <td>5.723340e-01</td>\n",
              "      <td>3.689114e+01</td>\n",
              "      <td>1.837421e+03</td>\n",
              "      <td>2.424487e+00</td>\n",
              "      <td>2.824436e+01</td>\n",
              "      <td>1.266933e+03</td>\n",
              "      <td>7.615855e-01</td>\n",
              "      <td>2.384145e-01</td>\n",
              "    </tr>\n",
              "    <tr>\n",
              "      <th>std</th>\n",
              "      <td>4.995812e-01</td>\n",
              "      <td>4.995812e-01</td>\n",
              "      <td>4.941576e-01</td>\n",
              "      <td>4.947403e-01</td>\n",
              "      <td>2.182807e+01</td>\n",
              "      <td>1.793299e+03</td>\n",
              "      <td>1.666584e+00</td>\n",
              "      <td>2.166079e+01</td>\n",
              "      <td>1.479523e+03</td>\n",
              "      <td>4.261140e-01</td>\n",
              "      <td>4.261140e-01</td>\n",
              "    </tr>\n",
              "    <tr>\n",
              "      <th>min</th>\n",
              "      <td>0.000000e+00</td>\n",
              "      <td>0.000000e+00</td>\n",
              "      <td>0.000000e+00</td>\n",
              "      <td>0.000000e+00</td>\n",
              "      <td>0.000000e+00</td>\n",
              "      <td>0.000000e+00</td>\n",
              "      <td>0.000000e+00</td>\n",
              "      <td>-6.000000e+00</td>\n",
              "      <td>0.000000e+00</td>\n",
              "      <td>0.000000e+00</td>\n",
              "      <td>0.000000e+00</td>\n",
              "    </tr>\n",
              "    <tr>\n",
              "      <th>25%</th>\n",
              "      <td>0.000000e+00</td>\n",
              "      <td>0.000000e+00</td>\n",
              "      <td>0.000000e+00</td>\n",
              "      <td>0.000000e+00</td>\n",
              "      <td>1.800000e+01</td>\n",
              "      <td>3.240000e+02</td>\n",
              "      <td>1.000000e+00</td>\n",
              "      <td>9.000000e+00</td>\n",
              "      <td>8.100000e+01</td>\n",
              "      <td>1.000000e+00</td>\n",
              "      <td>0.000000e+00</td>\n",
              "    </tr>\n",
              "    <tr>\n",
              "      <th>50%</th>\n",
              "      <td>1.000000e+00</td>\n",
              "      <td>0.000000e+00</td>\n",
              "      <td>0.000000e+00</td>\n",
              "      <td>1.000000e+00</td>\n",
              "      <td>3.600000e+01</td>\n",
              "      <td>1.296000e+03</td>\n",
              "      <td>3.000000e+00</td>\n",
              "      <td>2.600000e+01</td>\n",
              "      <td>6.760000e+02</td>\n",
              "      <td>1.000000e+00</td>\n",
              "      <td>0.000000e+00</td>\n",
              "    </tr>\n",
              "    <tr>\n",
              "      <th>75%</th>\n",
              "      <td>1.000000e+00</td>\n",
              "      <td>1.000000e+00</td>\n",
              "      <td>1.000000e+00</td>\n",
              "      <td>1.000000e+00</td>\n",
              "      <td>5.400000e+01</td>\n",
              "      <td>2.916000e+03</td>\n",
              "      <td>4.000000e+00</td>\n",
              "      <td>4.500000e+01</td>\n",
              "      <td>2.025000e+03</td>\n",
              "      <td>1.000000e+00</td>\n",
              "      <td>0.000000e+00</td>\n",
              "    </tr>\n",
              "    <tr>\n",
              "      <th>max</th>\n",
              "      <td>1.000000e+00</td>\n",
              "      <td>1.000000e+00</td>\n",
              "      <td>1.000000e+00</td>\n",
              "      <td>1.000000e+00</td>\n",
              "      <td>1.110000e+02</td>\n",
              "      <td>1.232100e+04</td>\n",
              "      <td>5.000000e+00</td>\n",
              "      <td>1.050000e+02</td>\n",
              "      <td>1.102500e+04</td>\n",
              "      <td>1.000000e+00</td>\n",
              "      <td>1.000000e+00</td>\n",
              "    </tr>\n",
              "  </tbody>\n",
              "</table>\n",
              "</div>\n",
              "      <button class=\"colab-df-convert\" onclick=\"convertToInteractive('df-12344e11-e7db-422b-9d41-ae532ce59ee6')\"\n",
              "              title=\"Convert this dataframe to an interactive table.\"\n",
              "              style=\"display:none;\">\n",
              "        \n",
              "  <svg xmlns=\"http://www.w3.org/2000/svg\" height=\"24px\"viewBox=\"0 0 24 24\"\n",
              "       width=\"24px\">\n",
              "    <path d=\"M0 0h24v24H0V0z\" fill=\"none\"/>\n",
              "    <path d=\"M18.56 5.44l.94 2.06.94-2.06 2.06-.94-2.06-.94-.94-2.06-.94 2.06-2.06.94zm-11 1L8.5 8.5l.94-2.06 2.06-.94-2.06-.94L8.5 2.5l-.94 2.06-2.06.94zm10 10l.94 2.06.94-2.06 2.06-.94-2.06-.94-.94-2.06-.94 2.06-2.06.94z\"/><path d=\"M17.41 7.96l-1.37-1.37c-.4-.4-.92-.59-1.43-.59-.52 0-1.04.2-1.43.59L10.3 9.45l-7.72 7.72c-.78.78-.78 2.05 0 2.83L4 21.41c.39.39.9.59 1.41.59.51 0 1.02-.2 1.41-.59l7.78-7.78 2.81-2.81c.8-.78.8-2.07 0-2.86zM5.41 20L4 18.59l7.72-7.72 1.47 1.35L5.41 20z\"/>\n",
              "  </svg>\n",
              "      </button>\n",
              "      \n",
              "  <style>\n",
              "    .colab-df-container {\n",
              "      display:flex;\n",
              "      flex-wrap:wrap;\n",
              "      gap: 12px;\n",
              "    }\n",
              "\n",
              "    .colab-df-convert {\n",
              "      background-color: #E8F0FE;\n",
              "      border: none;\n",
              "      border-radius: 50%;\n",
              "      cursor: pointer;\n",
              "      display: none;\n",
              "      fill: #1967D2;\n",
              "      height: 32px;\n",
              "      padding: 0 0 0 0;\n",
              "      width: 32px;\n",
              "    }\n",
              "\n",
              "    .colab-df-convert:hover {\n",
              "      background-color: #E2EBFA;\n",
              "      box-shadow: 0px 1px 2px rgba(60, 64, 67, 0.3), 0px 1px 3px 1px rgba(60, 64, 67, 0.15);\n",
              "      fill: #174EA6;\n",
              "    }\n",
              "\n",
              "    [theme=dark] .colab-df-convert {\n",
              "      background-color: #3B4455;\n",
              "      fill: #D2E3FC;\n",
              "    }\n",
              "\n",
              "    [theme=dark] .colab-df-convert:hover {\n",
              "      background-color: #434B5C;\n",
              "      box-shadow: 0px 1px 3px 1px rgba(0, 0, 0, 0.15);\n",
              "      filter: drop-shadow(0px 1px 2px rgba(0, 0, 0, 0.3));\n",
              "      fill: #FFFFFF;\n",
              "    }\n",
              "  </style>\n",
              "\n",
              "      <script>\n",
              "        const buttonEl =\n",
              "          document.querySelector('#df-12344e11-e7db-422b-9d41-ae532ce59ee6 button.colab-df-convert');\n",
              "        buttonEl.style.display =\n",
              "          google.colab.kernel.accessAllowed ? 'block' : 'none';\n",
              "\n",
              "        async function convertToInteractive(key) {\n",
              "          const element = document.querySelector('#df-12344e11-e7db-422b-9d41-ae532ce59ee6');\n",
              "          const dataTable =\n",
              "            await google.colab.kernel.invokeFunction('convertToInteractive',\n",
              "                                                     [key], {});\n",
              "          if (!dataTable) return;\n",
              "\n",
              "          const docLinkHtml = 'Like what you see? Visit the ' +\n",
              "            '<a target=\"_blank\" href=https://colab.research.google.com/notebooks/data_table.ipynb>data table notebook</a>'\n",
              "            + ' to learn more about interactive tables.';\n",
              "          element.innerHTML = '';\n",
              "          dataTable['output_type'] = 'display_data';\n",
              "          await google.colab.output.renderOutput(dataTable, element);\n",
              "          const docLink = document.createElement('div');\n",
              "          docLink.innerHTML = docLinkHtml;\n",
              "          element.appendChild(docLink);\n",
              "        }\n",
              "      </script>\n",
              "    </div>\n",
              "  </div>\n",
              "  "
            ]
          },
          "metadata": {},
          "execution_count": 24
        }
      ]
    },
    {
      "cell_type": "code",
      "execution_count": 32,
      "metadata": {
        "colab": {
          "base_uri": "https://localhost:8080/"
        },
        "id": "ZIwEYqY_7oOZ",
        "outputId": "39d081b2-7262-4190-be97-b008b03bc47f"
      },
      "outputs": [
        {
          "output_type": "execute_result",
          "data": {
            "text/plain": [
              "2231.6073128531225"
            ]
          },
          "metadata": {},
          "execution_count": 32
        }
      ],
      "source": [
        "# Analisa estatísticas descritivas tempo da mulhar desempregada\n",
        "df.groupby('desemp').agg({'mulher': 'count'})\n",
        "\n",
        "# Analisa estatísticas por grupo\n",
        "df.groupby('desemp').agg({'mulher': 'sum', 'negra': 'sum', 'anest3': 'sum'})\n",
        "df[df['idpia']<10]['idpia'].sum()\n",
        "df['renpri'].mean()"
      ]
    }
  ]
}